{
  "nbformat": 4,
  "nbformat_minor": 0,
  "metadata": {
    "colab": {
      "name": "Untitled2.ipynb",
      "provenance": [],
      "include_colab_link": true
    },
    "kernelspec": {
      "name": "python2",
      "display_name": "Python 2"
    },
    "accelerator": "GPU"
  },
  "cells": [
    {
      "cell_type": "markdown",
      "metadata": {
        "id": "view-in-github",
        "colab_type": "text"
      },
      "source": [
        "<a href=\"https://colab.research.google.com/github/MohsennnMolaei/IsomapCUDA/blob/master/IsoMap.ipynb\" target=\"_parent\"><img src=\"https://colab.research.google.com/assets/colab-badge.svg\" alt=\"Open In Colab\"/></a>"
      ]
    },
    {
      "cell_type": "code",
      "metadata": {
        "id": "VsoMYBhuZ9gx",
        "colab_type": "code",
        "outputId": "20fc2c94-f09d-4e9c-8ac4-a0385c7ab01a",
        "colab": {
          "base_uri": "https://localhost:8080/",
          "height": 102
        }
      },
      "source": [
        "!git clone https://github.com/vikrantt/IsomapCUDA.git"
      ],
      "execution_count": 4,
      "outputs": [
        {
          "output_type": "stream",
          "text": [
            "Cloning into 'IsomapCUDA'...\n",
            "remote: Enumerating objects: 218, done.\u001b[K\n",
            "Receiving objects:   0% (1/218)   \rReceiving objects:   1% (3/218)   \rReceiving objects:   2% (5/218)   \rReceiving objects:   3% (7/218)   \rReceiving objects:   4% (9/218)   \rReceiving objects:   5% (11/218)   \rReceiving objects:   6% (14/218)   \rReceiving objects:   7% (16/218)   \rReceiving objects:   8% (18/218)   \rReceiving objects:   9% (20/218)   \rReceiving objects:  10% (22/218)   \rReceiving objects:  11% (24/218)   \rReceiving objects:  12% (27/218)   \rReceiving objects:  13% (29/218)   \rReceiving objects:  14% (31/218)   \rReceiving objects:  15% (33/218)   \rReceiving objects:  16% (35/218)   \rReceiving objects:  17% (38/218)   \rReceiving objects:  18% (40/218)   \rReceiving objects:  19% (42/218)   \rReceiving objects:  20% (44/218)   \rReceiving objects:  21% (46/218)   \rReceiving objects:  22% (48/218)   \rReceiving objects:  23% (51/218)   \rReceiving objects:  24% (53/218)   \rReceiving objects:  25% (55/218)   \rReceiving objects:  26% (57/218)   \rReceiving objects:  27% (59/218)   \rReceiving objects:  28% (62/218)   \rReceiving objects:  29% (64/218)   \rReceiving objects:  30% (66/218)   \rReceiving objects:  31% (68/218)   \rReceiving objects:  32% (70/218)   \rReceiving objects:  33% (72/218)   \rReceiving objects:  34% (75/218)   \rReceiving objects:  35% (77/218)   \rReceiving objects:  36% (79/218)   \rReceiving objects:  37% (81/218)   \rReceiving objects:  38% (83/218)   \rReceiving objects:  39% (86/218)   \rReceiving objects:  40% (88/218)   \rReceiving objects:  41% (90/218)   \rReceiving objects:  42% (92/218)   \rReceiving objects:  43% (94/218)   \rremote: Total 218 (delta 0), reused 0 (delta 0), pack-reused 218\u001b[K\n",
            "Receiving objects:  44% (96/218)   \rReceiving objects:  45% (99/218)   \rReceiving objects:  46% (101/218)   \rReceiving objects:  47% (103/218)   \rReceiving objects:  48% (105/218)   \rReceiving objects:  49% (107/218)   \rReceiving objects:  50% (109/218)   \rReceiving objects:  51% (112/218)   \rReceiving objects:  52% (114/218)   \rReceiving objects:  53% (116/218)   \rReceiving objects:  54% (118/218)   \rReceiving objects:  55% (120/218)   \rReceiving objects:  56% (123/218)   \rReceiving objects:  57% (125/218)   \rReceiving objects:  58% (127/218)   \rReceiving objects:  59% (129/218)   \rReceiving objects:  60% (131/218)   \rReceiving objects:  61% (133/218)   \rReceiving objects:  62% (136/218)   \rReceiving objects:  63% (138/218)   \rReceiving objects:  64% (140/218)   \rReceiving objects:  65% (142/218)   \rReceiving objects:  66% (144/218)   \rReceiving objects:  67% (147/218)   \rReceiving objects:  68% (149/218)   \rReceiving objects:  69% (151/218)   \rReceiving objects:  70% (153/218)   \rReceiving objects:  71% (155/218)   \rReceiving objects:  72% (157/218)   \rReceiving objects:  73% (160/218)   \rReceiving objects:  74% (162/218)   \rReceiving objects:  75% (164/218)   \rReceiving objects:  76% (166/218)   \rReceiving objects:  77% (168/218)   \rReceiving objects:  78% (171/218)   \rReceiving objects:  79% (173/218)   \rReceiving objects:  80% (175/218)   \rReceiving objects:  81% (177/218)   \rReceiving objects:  82% (179/218)   \rReceiving objects:  83% (181/218)   \rReceiving objects:  84% (184/218)   \rReceiving objects:  85% (186/218)   \rReceiving objects:  86% (188/218)   \rReceiving objects:  87% (190/218)   \rReceiving objects:  88% (192/218)   \rReceiving objects:  89% (195/218)   \rReceiving objects:  90% (197/218)   \rReceiving objects:  91% (199/218)   \rReceiving objects:  92% (201/218)   \rReceiving objects:  93% (203/218)   \rReceiving objects:  94% (205/218)   \rReceiving objects:  95% (208/218)   \rReceiving objects:  96% (210/218)   \rReceiving objects:  97% (212/218)   \rReceiving objects:  98% (214/218)   \rReceiving objects:  99% (216/218)   \rReceiving objects: 100% (218/218)   \rReceiving objects: 100% (218/218), 98.16 KiB | 605.00 KiB/s, done.\n",
            "Resolving deltas:   0% (0/126)   \rResolving deltas:   5% (7/126)   \rResolving deltas:  18% (23/126)   \rResolving deltas:  39% (50/126)   \rResolving deltas:  42% (53/126)   \rResolving deltas:  44% (56/126)   \rResolving deltas:  46% (58/126)   \rResolving deltas:  53% (68/126)   \rResolving deltas:  54% (69/126)   \rResolving deltas:  57% (72/126)   \rResolving deltas:  61% (78/126)   \rResolving deltas:  84% (107/126)   \rResolving deltas:  92% (117/126)   \rResolving deltas:  93% (118/126)   \rResolving deltas:  94% (119/126)   \rResolving deltas:  96% (121/126)   \rResolving deltas:  97% (123/126)   \rResolving deltas:  99% (125/126)   \rResolving deltas: 100% (126/126)   \rResolving deltas: 100% (126/126), done.\n"
          ],
          "name": "stdout"
        }
      ]
    },
    {
      "cell_type": "code",
      "metadata": {
        "id": "MFB12NZzopwk",
        "colab_type": "code",
        "colab": {
          "base_uri": "https://localhost:8080/",
          "height": 122
        },
        "outputId": "21b2ed42-1d10-4ae7-979a-2f3745257cfd"
      },
      "source": [
        "from google.colab import drive\n",
        "drive.mount('/content/drive')"
      ],
      "execution_count": 5,
      "outputs": [
        {
          "output_type": "stream",
          "text": [
            "Go to this URL in a browser: https://accounts.google.com/o/oauth2/auth?client_id=947318989803-6bn6qk8qdgf4n4g3pfee6491hc0brc4i.apps.googleusercontent.com&redirect_uri=urn%3aietf%3awg%3aoauth%3a2.0%3aoob&response_type=code&scope=email%20https%3a%2f%2fwww.googleapis.com%2fauth%2fdocs.test%20https%3a%2f%2fwww.googleapis.com%2fauth%2fdrive%20https%3a%2f%2fwww.googleapis.com%2fauth%2fdrive.photos.readonly%20https%3a%2f%2fwww.googleapis.com%2fauth%2fpeopleapi.readonly\n",
            "\n",
            "Enter your authorization code:\n",
            "··········\n",
            "Mounted at /content/drive\n"
          ],
          "name": "stdout"
        }
      ]
    },
    {
      "cell_type": "code",
      "metadata": {
        "id": "tB2gb7GgpXaP",
        "colab_type": "code",
        "colab": {}
      },
      "source": [
        "!cp -r /content/IsomapCUDA \"/content/drive/My Drive/Colab Notebooks\""
      ],
      "execution_count": 0,
      "outputs": []
    },
    {
      "cell_type": "code",
      "metadata": {
        "id": "yTCufu38eHKN",
        "colab_type": "code",
        "outputId": "cbc0e2ed-8c66-4916-8690-e3777a67fe1d",
        "colab": {
          "base_uri": "https://localhost:8080/",
          "height": 493
        }
      },
      "source": [
        "pip install pycuda"
      ],
      "execution_count": 2,
      "outputs": [
        {
          "output_type": "stream",
          "text": [
            "Collecting pycuda\n",
            "\u001b[?25l  Downloading https://files.pythonhosted.org/packages/5e/3f/5658c38579b41866ba21ee1b5020b8225cec86fe717e4b1c5c972de0a33c/pycuda-2019.1.2.tar.gz (1.6MB)\n",
            "\u001b[K     |████████████████████████████████| 1.6MB 8.7MB/s \n",
            "\u001b[?25hCollecting pytools>=2011.2\n",
            "\u001b[?25l  Downloading https://files.pythonhosted.org/packages/00/96/00416762a3eda8876a17d007df4a946f46b2e4ee1057e0b9714926472ef8/pytools-2019.1.1.tar.gz (58kB)\n",
            "\u001b[K     |████████████████████████████████| 61kB 9.0MB/s \n",
            "\u001b[?25hRequirement already satisfied: decorator>=3.2.0 in /usr/local/lib/python2.7/dist-packages (from pycuda) (4.4.0)\n",
            "Collecting appdirs>=1.4.0\n",
            "  Downloading https://files.pythonhosted.org/packages/56/eb/810e700ed1349edde4cbdc1b2a21e28cdf115f9faf263f6bbf8447c1abf3/appdirs-1.4.3-py2.py3-none-any.whl\n",
            "Collecting mako\n",
            "\u001b[?25l  Downloading https://files.pythonhosted.org/packages/b0/3c/8dcd6883d009f7cae0f3157fb53e9afb05a0d3d33b3db1268ec2e6f4a56b/Mako-1.1.0.tar.gz (463kB)\n",
            "\u001b[K     |████████████████████████████████| 471kB 53.3MB/s \n",
            "\u001b[?25hRequirement already satisfied: six>=1.8.0 in /usr/local/lib/python2.7/dist-packages (from pytools>=2011.2->pycuda) (1.12.0)\n",
            "Requirement already satisfied: numpy>=1.6.0 in /usr/local/lib/python2.7/dist-packages (from pytools>=2011.2->pycuda) (1.16.4)\n",
            "Requirement already satisfied: MarkupSafe>=0.9.2 in /usr/local/lib/python2.7/dist-packages (from mako->pycuda) (1.1.1)\n",
            "Building wheels for collected packages: pycuda, pytools, mako\n",
            "  Building wheel for pycuda (setup.py) ... \u001b[?25l\u001b[?25hdone\n",
            "  Created wheel for pycuda: filename=pycuda-2019.1.2-cp27-cp27mu-linux_x86_64.whl size=4349247 sha256=494854335bbb2b6b98ff7769319762f029a1c12ff067d9d73037099a4f6e0339\n",
            "  Stored in directory: /root/.cache/pip/wheels/a6/60/f0/b1c430c73d281ac3e46070480db50f7907364eb6f6d3188396\n",
            "  Building wheel for pytools (setup.py) ... \u001b[?25l\u001b[?25hdone\n",
            "  Created wheel for pytools: filename=pytools-2019.1.1-py2.py3-none-any.whl size=58424 sha256=0ff03939f722ee1dd98d07ca9b54e27e7adc264b46ebca6b62d20703d17611d1\n",
            "  Stored in directory: /root/.cache/pip/wheels/83/df/0b/75ac4572aaa93e3eba6a58472635d0fda907f5f4cf884a3a0c\n",
            "  Building wheel for mako (setup.py) ... \u001b[?25l\u001b[?25hdone\n",
            "  Created wheel for mako: filename=Mako-1.1.0-cp27-none-any.whl size=75359 sha256=aef7bed99bfb61c5a553094f663e88f71c19373eb2f7669f1ebe6200b38602d8\n",
            "  Stored in directory: /root/.cache/pip/wheels/98/32/7b/a291926643fc1d1e02593e0d9e247c5a866a366b8343b7aa27\n",
            "Successfully built pycuda pytools mako\n",
            "Installing collected packages: appdirs, pytools, mako, pycuda\n",
            "Successfully installed appdirs-1.4.3 mako-1.1.0 pycuda-2019.1.2 pytools-2019.1.1\n"
          ],
          "name": "stdout"
        }
      ]
    },
    {
      "cell_type": "code",
      "metadata": {
        "id": "dRA7TE45aXVv",
        "colab_type": "code",
        "outputId": "7f1562c8-32a0-47ec-9114-a95f6609e6dc",
        "colab": {
          "base_uri": "https://localhost:8080/",
          "height": 34
        }
      },
      "source": [
        "%cd 'IsomapCUDA'"
      ],
      "execution_count": 10,
      "outputs": [
        {
          "output_type": "stream",
          "text": [
            "/content/IsomapCUDA\n"
          ],
          "name": "stdout"
        }
      ]
    },
    {
      "cell_type": "code",
      "metadata": {
        "id": "X8TVRNni8V35",
        "colab_type": "code",
        "colab": {
          "base_uri": "https://localhost:8080/",
          "height": 34
        },
        "outputId": "3ff71981-35ed-4175-954c-56911c639a11"
      },
      "source": [
        "%cd  /content/drive/My Drive/Colab Notebooks/IsomapCUDA"
      ],
      "execution_count": 10,
      "outputs": [
        {
          "output_type": "stream",
          "text": [
            "/content/drive/My Drive/Colab Notebooks/IsomapCUDA\n"
          ],
          "name": "stdout"
        }
      ]
    },
    {
      "cell_type": "code",
      "metadata": {
        "id": "smCDG-J4afGe",
        "colab_type": "code",
        "outputId": "5361c9c5-7c77-4475-ae03-f0bc3acde3e9",
        "colab": {
          "base_uri": "https://localhost:8080/",
          "height": 119
        }
      },
      "source": [
        "!python Isomap.py"
      ],
      "execution_count": 16,
      "outputs": [
        {
          "output_type": "stream",
          "text": [
            "0.0478670597076  seconds to process KNN\n",
            "4.58112001419  seconds to create shortest paths.\n",
            "0.0326640605927  seconds to normalize the matrix.\n",
            "(20, 3) (3,) (20, 2500)\n",
            "4.08705806732  seconds to process Eigenvalues\n",
            "(3, 2500)\n"
          ],
          "name": "stdout"
        }
      ]
    },
    {
      "cell_type": "code",
      "metadata": {
        "id": "jQjJ2lZBxJP6",
        "colab_type": "code",
        "colab": {
          "base_uri": "https://localhost:8080/",
          "height": 34
        },
        "outputId": "7475d325-8201-40a1-920a-d34aa4003277"
      },
      "source": [
        "%run Isomap.py"
      ],
      "execution_count": 1,
      "outputs": [
        {
          "output_type": "stream",
          "text": [
            "ERROR:root:File `u'Isomap.py'` not found.\n"
          ],
          "name": "stderr"
        }
      ]
    },
    {
      "cell_type": "code",
      "metadata": {
        "id": "NXRdmWAr3nNq",
        "colab_type": "code",
        "colab": {
          "base_uri": "https://localhost:8080/",
          "height": 34
        },
        "outputId": "4f8874cc-d619-4054-fce7-5567421f3f5d"
      },
      "source": [
        "!python --version\n"
      ],
      "execution_count": 8,
      "outputs": [
        {
          "output_type": "stream",
          "text": [
            "Python 2.7.17\n"
          ],
          "name": "stdout"
        }
      ]
    },
    {
      "cell_type": "code",
      "metadata": {
        "id": "jJEdG11f5fGD",
        "colab_type": "code",
        "colab": {
          "base_uri": "https://localhost:8080/",
          "height": 697
        },
        "outputId": "6b031903-ee0a-4c77-cd8d-b5c58f862b7e"
      },
      "source": [
        "!export\n"
      ],
      "execution_count": 18,
      "outputs": [
        {
          "output_type": "stream",
          "text": [
            "declare -x CLICOLOR=\"1\"\n",
            "declare -x CLOUDSDK_CONFIG=\"/content/.config\"\n",
            "declare -x COLAB_GPU=\"1\"\n",
            "declare -x CUDA_PKG_VERSION=\"10-1=10.1.243-1\"\n",
            "declare -x CUDA_VERSION=\"10.1.243\"\n",
            "declare -x CUDNN_VERSION=\"7.6.5.32\"\n",
            "declare -x DATALAB_SETTINGS_OVERRIDES=\"{\\\"kernelManagerProxyPort\\\":6000,\\\"kernelManagerProxyHost\\\":\\\"172.28.0.3\\\",\\\"jupyterArgs\\\":[\\\"--ip=\\\\\\\"172.28.0.2\\\\\\\"\\\"]}\"\n",
            "declare -x DEBIAN_FRONTEND=\"noninteractive\"\n",
            "declare -x ENV=\"/root/.bashrc\"\n",
            "declare -x GCS_READ_CACHE_BLOCK_SIZE_MB=\"16\"\n",
            "declare -x GIT_PAGER=\"cat\"\n",
            "declare -x GLIBCPP_FORCE_NEW=\"1\"\n",
            "declare -x GLIBCXX_FORCE_NEW=\"1\"\n",
            "declare -x HOME=\"/root\"\n",
            "declare -x HOSTNAME=\"78f31b262db4\"\n",
            "declare -x JPY_PARENT_PID=\"24\"\n",
            "declare -x LANG=\"en_US.UTF-8\"\n",
            "declare -x LAST_FORCED_REBUILD=\"20191217\"\n",
            "declare -x LD_LIBRARY_PATH=\"/usr/lib64-nvidia\"\n",
            "declare -x LD_PRELOAD=\"/usr/lib/x86_64-linux-gnu/libtcmalloc.so.4\"\n",
            "declare -x LIBRARY_PATH=\"/usr/local/cuda/lib64/stubs\"\n",
            "declare -x MPLBACKEND=\"module://ipykernel.pylab.backend_inline\"\n",
            "declare -x NCCL_VERSION=\"2.4.8\"\n",
            "declare -x NO_GCE_CHECK=\"True\"\n",
            "declare -x NVIDIA_DRIVER_CAPABILITIES=\"compute,utility\"\n",
            "declare -x NVIDIA_REQUIRE_CUDA=\"cuda>=10.1 brand=tesla,driver>=384,driver<385 brand=tesla,driver>=396,driver<397 brand=tesla,driver>=410,driver<411\"\n",
            "declare -x NVIDIA_VISIBLE_DEVICES=\"all\"\n",
            "declare -x OLDPWD=\"/\"\n",
            "declare -x PAGER=\"cat\"\n",
            "declare -x PATH=\"/usr/local/nvidia/bin:/usr/local/cuda/bin:/usr/local/sbin:/usr/local/bin:/usr/sbin:/usr/bin:/sbin:/bin:/tools/node/bin:/tools/google-cloud-sdk/bin:/opt/bin\"\n",
            "declare -x PWD=\"/content/IsomapCUDA\"\n",
            "declare -x PYTHONPATH=\"/env/python\"\n",
            "declare -x PYTHONWARNINGS=\"ignore:::pip._internal.cli.base_command\"\n",
            "declare -x SHELL=\"/bin/bash\"\n",
            "declare -x SHLVL=\"2\"\n",
            "declare -x TBE_CREDS_ADDR=\"172.28.0.1:8008\"\n",
            "declare -x TERM=\"xterm-color\"\n",
            "declare -x TF_FORCE_GPU_ALLOW_GROWTH=\"true\"\n",
            "declare -x _=\"/tools/node/bin/node\"\n",
            "declare -x __EGL_VENDOR_LIBRARY_DIRS=\"/usr/lib64-nvidia:/usr/share/glvnd/egl_vendor.d/\"\n"
          ],
          "name": "stdout"
        }
      ]
    },
    {
      "cell_type": "code",
      "metadata": {
        "id": "ps1FIXdL530k",
        "colab_type": "code",
        "colab": {
          "base_uri": "https://localhost:8080/",
          "height": 306
        },
        "outputId": "d65d0cf5-dc91-486c-a8a8-19901b8e5ee6"
      },
      "source": [
        "import pycuda.autoinit\n",
        "import pycuda.driver as drv\n",
        "import numpy\n",
        "\n",
        "from pycuda.compiler import SourceModule\n",
        "mod = SourceModule(\n",
        "\"\"\"\n",
        "__global__ void multiply_them(float *dest, float *a, float *b)\n",
        "{\n",
        "  const int i = threadIdx.x;\n",
        "  dest[i] = a[i] * b[i];\n",
        "}\n",
        "\"\"\"\n",
        ")\n",
        "\n",
        "multiply_them = mod.get_function(\"multiply_them\")\n",
        "\n",
        "a = numpy.random.randn(400).astype(numpy.float32)\n",
        "b = numpy.random.randn(400).astype(numpy.float32)\n",
        "\n",
        "dest = numpy.zeros_like(a)\n",
        "multiply_them(\n",
        "        drv.Out(dest), drv.In(a), drv.In(b),\n",
        "        block=(400,1,1), grid=(1,1))\n",
        "\n",
        "print (dest-a*b)"
      ],
      "execution_count": 3,
      "outputs": [
        {
          "output_type": "stream",
          "text": [
            "[0. 0. 0. 0. 0. 0. 0. 0. 0. 0. 0. 0. 0. 0. 0. 0. 0. 0. 0. 0. 0. 0. 0. 0.\n",
            " 0. 0. 0. 0. 0. 0. 0. 0. 0. 0. 0. 0. 0. 0. 0. 0. 0. 0. 0. 0. 0. 0. 0. 0.\n",
            " 0. 0. 0. 0. 0. 0. 0. 0. 0. 0. 0. 0. 0. 0. 0. 0. 0. 0. 0. 0. 0. 0. 0. 0.\n",
            " 0. 0. 0. 0. 0. 0. 0. 0. 0. 0. 0. 0. 0. 0. 0. 0. 0. 0. 0. 0. 0. 0. 0. 0.\n",
            " 0. 0. 0. 0. 0. 0. 0. 0. 0. 0. 0. 0. 0. 0. 0. 0. 0. 0. 0. 0. 0. 0. 0. 0.\n",
            " 0. 0. 0. 0. 0. 0. 0. 0. 0. 0. 0. 0. 0. 0. 0. 0. 0. 0. 0. 0. 0. 0. 0. 0.\n",
            " 0. 0. 0. 0. 0. 0. 0. 0. 0. 0. 0. 0. 0. 0. 0. 0. 0. 0. 0. 0. 0. 0. 0. 0.\n",
            " 0. 0. 0. 0. 0. 0. 0. 0. 0. 0. 0. 0. 0. 0. 0. 0. 0. 0. 0. 0. 0. 0. 0. 0.\n",
            " 0. 0. 0. 0. 0. 0. 0. 0. 0. 0. 0. 0. 0. 0. 0. 0. 0. 0. 0. 0. 0. 0. 0. 0.\n",
            " 0. 0. 0. 0. 0. 0. 0. 0. 0. 0. 0. 0. 0. 0. 0. 0. 0. 0. 0. 0. 0. 0. 0. 0.\n",
            " 0. 0. 0. 0. 0. 0. 0. 0. 0. 0. 0. 0. 0. 0. 0. 0. 0. 0. 0. 0. 0. 0. 0. 0.\n",
            " 0. 0. 0. 0. 0. 0. 0. 0. 0. 0. 0. 0. 0. 0. 0. 0. 0. 0. 0. 0. 0. 0. 0. 0.\n",
            " 0. 0. 0. 0. 0. 0. 0. 0. 0. 0. 0. 0. 0. 0. 0. 0. 0. 0. 0. 0. 0. 0. 0. 0.\n",
            " 0. 0. 0. 0. 0. 0. 0. 0. 0. 0. 0. 0. 0. 0. 0. 0. 0. 0. 0. 0. 0. 0. 0. 0.\n",
            " 0. 0. 0. 0. 0. 0. 0. 0. 0. 0. 0. 0. 0. 0. 0. 0. 0. 0. 0. 0. 0. 0. 0. 0.\n",
            " 0. 0. 0. 0. 0. 0. 0. 0. 0. 0. 0. 0. 0. 0. 0. 0. 0. 0. 0. 0. 0. 0. 0. 0.\n",
            " 0. 0. 0. 0. 0. 0. 0. 0. 0. 0. 0. 0. 0. 0. 0. 0.]\n"
          ],
          "name": "stdout"
        }
      ]
    },
    {
      "cell_type": "code",
      "metadata": {
        "id": "6XHQiRjgxaUR",
        "colab_type": "code",
        "colab": {}
      },
      "source": [
        "%pycat /content/IsomapCUDA/CudaKernels/KNN/KNN.nvcc\n"
      ],
      "execution_count": 0,
      "outputs": []
    },
    {
      "cell_type": "code",
      "metadata": {
        "id": "35pT7qEv13_0",
        "colab_type": "code",
        "colab": {}
      },
      "source": [
        "!sudo apt-get install nano\n"
      ],
      "execution_count": 0,
      "outputs": []
    },
    {
      "cell_type": "code",
      "metadata": {
        "id": "ITrYSEDT2jno",
        "colab_type": "code",
        "colab": {}
      },
      "source": [
        "%cat \"/content/drive/My Drive/Colab Notebooks/IsomapCUDA/CudaKernels/KNN/KNN.nvcc\"\n"
      ],
      "execution_count": 0,
      "outputs": []
    },
    {
      "cell_type": "code",
      "metadata": {
        "id": "cj0q-Phg64PH",
        "colab_type": "code",
        "colab": {
          "base_uri": "https://localhost:8080/",
          "height": 360
        },
        "outputId": "3f5855ad-6bfb-46bf-9e42-c0733f3e561a"
      },
      "source": [
        "%%writefile \"/content/drive/My Drive/Colab Notebooks/IsomapCUDA/CudaKernels/KNN/KNN.nvcc\"\n",
        "/* K nearest Neighbours Kernel for large datasets ( backported from the improved version at http://github.com/TrentHouliston/Isomaped )\n",
        "####################################################################################################################################################\n",
        "#Copyright (c) 2013, Josiah Walker and Trent Houliston\n",
        "#All rights reserved.\n",
        "#\n",
        "#Redistribution and use in source and binary forms, with or without modification, are permitted provided that the following conditions are met:\n",
        "#\n",
        "#    Redistributions of source code must retain the above copyright notice, this list of conditions and the following disclaimer.\n",
        "#    Redistributions in binary form must reproduce the above copyright notice, this list of conditions and the following disclaimer in the documentation and/or #other materials provided with the distribution.\n",
        "#\n",
        "#THIS SOFTWARE IS PROVIDED BY THE COPYRIGHT HOLDERS AND CONTRIBUTORS \"AS IS\" AND ANY EXPRESS OR IMPLIED WARRANTIES, INCLUDING, BUT NOT LIMITED TO, THE IMPLIED #WARRANTIES OF MERCHANTABILITY AND FITNESS FOR A PARTICULAR PURPOSE ARE DISCLAIMED. IN NO EVENT SHALL THE COPYRIGHT HOLDER OR CONTRIBUTORS BE LIABLE FOR ANY #DIRECT, INDIRECT, INCIDENTAL, SPECIAL, EXEMPLARY, OR CONSEQUENTIAL DAMAGES (INCLUDING, BUT NOT LIMITED TO, PROCUREMENT OF SUBSTITUTE GOODS OR SERVICES; LOSS #OF USE, DATA, OR PROFITS; OR BUSINESS INTERRUPTION) HOWEVER CAUSED AND ON ANY THEORY OF LIABILITY, WHETHER IN CONTRACT, STRICT LIABILITY, OR TORT (INCLUDING #NEGLIGENCE OR OTHERWISE) ARISING IN ANY WAY OUT OF THE USE OF THIS SOFTWARE, EVEN IF ADVISED OF THE POSSIBILITY OF SUCH DAMAGE.\n",
        "####################################################################################################################################################\n",
        "*/\n",
        "\n",
        "/**\n",
        "* This kernel calculates the K nearest neighbours for the input matrix by chunking it into individual sections.\n",
        "* This allows the GPU to do a KNN on datasets that are larger then the amount of memory on the device. It is to\n",
        "* be called by splitting the input data into \"Chunks\" that fit on the gpu memory, and alternate them until every\n",
        "* chunk has been loaded as both source and dest. This results in a complete KNN map for all of the data.\n",
        "*\n",
        "*\n",
        "*\n",
        "* @param source Our \"Source\" chunk of data to do KNN on\n",
        "* @param target Our \"Target\" chunk, the chunk we are comparing distances to\n",
        "* @param dimensions The dimensionality of the source/target data\n",
        "* @param indices The indexes to the nearest k neighbours (matches with distances)\n",
        "* @param distances The distances to our nearest k neighbours (matches with indices)\n",
        "* @param kMax The number of nodes to include in our K nearest\n",
        "* @param epsilon Our epsilon to limit the distance of KMeans by\n",
        "* @param dataSize The total number of data elements we are processing (for bounds checking)\n",
        "* @param chunkSize The size of our chunks (for bounds checking)\n",
        "* @param sourceOffset The offset from 0 that the real (non chunked) index of our source chunk is\n",
        "* @param targetOffset The offset from 0 that the real (non chunked) index of our target chunk is\n",
        "* @param maxThreads The number of threads the host CUDA version supports\n",
        "*\n",
        "* @author Josiah Walker\n",
        "* @author Trent Houliston\n",
        "*/\n",
        "#define MAXBLOCKS 65536 //this will probably never get used, but in the event that we are over 10 million objects it helps.\n",
        "\n",
        "\n",
        "__device__ unsigned int heapInsertFloat (unsigned int* heapDataI, float* heapDataF, const unsigned int heapInsertI, const float heapInsertF) {\n",
        "    unsigned int index = (heapInsertF < heapDataF[0]); //if d < root, move to the next node to check\n",
        "    \n",
        "    const bool inserted = index != 0; //check if we insert at all\n",
        "    \n",
        "    while (index < MAXKMAX && (heapDataF[index] > heapInsertF || heapDataF[index+1] > heapInsertF)) { //walk the bheap\n",
        "        \n",
        "        //get the index of the new largest leaf\n",
        "        const unsigned int newIndex = index+(heapDataF[index]<heapDataF[index+1]);\n",
        "        \n",
        "        //shift the leaf up\n",
        "        heapDataF[index/2] = heapDataF[newIndex];\n",
        "        heapDataI[index/2] = heapDataI[newIndex];\n",
        "        \n",
        "        //increment the target index\n",
        "        index = 2*newIndex+1;\n",
        "    }\n",
        "    if (inserted) { //copy in the final values\n",
        "        heapDataF[index/2] = heapInsertF;\n",
        "        heapDataI[index/2] = heapInsertI;\n",
        "    }\n",
        "    return index; //return 2*index+1 we inserted at; 0 = not inserted\n",
        "}\n",
        "\n",
        "\n",
        "__global__ void KNN(const float* source,\n",
        "                    const float* target,\n",
        "                    unsigned int* indices,\n",
        "                    float* knn,\n",
        "                    const long dimensions,\n",
        "                    const long kMax,\n",
        "                    const long epsilon,\n",
        "                    const long dataSize, //use longs instead of uints because numpy doesn't support single value uint32\n",
        "                    const long chunkSize,\n",
        "                    const long sourceOffset,\n",
        "                    const long targetOffset) {\n",
        "    \n",
        "    const unsigned int elementIndex = (threadIdx.x+blockIdx.x*1024+blockIdx.y*1024*MAXBLOCKS);\n",
        "    const unsigned int sourceLimit = min((unsigned int)(chunkSize+sourceOffset),(unsigned int)dataSize)-sourceOffset;\n",
        "    const unsigned int targetLimit = min((unsigned int)(chunkSize+targetOffset),(unsigned int)dataSize)-targetOffset;\n",
        "    const unsigned int offset = elementIndex*kMax;\n",
        "    \n",
        "    //make local memory arrays\n",
        "    float distances[CHUNKSIZE];\n",
        "    float knnD[MAXKMAX+1];\n",
        "    unsigned int knnI[MAXKMAX+1];\n",
        "    \n",
        "    if (elementIndex < sourceLimit) {\n",
        "        \n",
        "        for (unsigned int i = 0; i < kMax; ++i) { //Prefill the KNN heap from main memory\n",
        "            knnD[i] = knn[offset + i];\n",
        "            knnI[i] = indices[offset + i];\n",
        "        }\n",
        "        \n",
        "        const float s0 = source[elementIndex];\n",
        "        for (unsigned int i = 0; i < targetLimit; ++i) { //clear the local memory, replacing with our first values so we don't waste ops\n",
        "            const float value = target[i] - s0;\n",
        "            distances[i] = value*value;\n",
        "        }\n",
        "        \n",
        "        for (unsigned int j = 1; j < dimensions; ++j) { //add up all the dot products column by column\n",
        "            const float s = source[elementIndex + j*sourceLimit];\n",
        "            for (unsigned int i = 0; i < targetLimit; i++) {\n",
        "                const float value = target[i  + j*targetLimit] - s;\n",
        "                distances[i] += value * value;\n",
        "            }\n",
        "        }\n",
        "        \n",
        "        //use a binary maxheap to insert new neighbours\n",
        "        for (unsigned int i = 0; i < targetLimit; ++i) {\n",
        "            //get the next distance\n",
        "            const float d = sqrt(distances[i]);\n",
        "            heapInsertFloat(knnI,knnD,i+targetOffset,d);\n",
        "        }\n",
        "        \n",
        "        //copy the remainder to main memory\n",
        "        for (unsigned int i = 0; i < kMax; ++i) {\n",
        "            knn[offset + i] = knnD[i];\n",
        "            indices[offset + i] = knnI[i];\n",
        "        }\n",
        "    }\n",
        "}"
      ],
      "execution_count": 14,
      "outputs": [
        {
          "output_type": "stream",
          "text": [
            "Writing \"/content/drive/My Drive/Colab Notebooks/IsomapCUDA/CudaKernels/KNN/KNN.nvcc\"\n"
          ],
          "name": "stdout"
        },
        {
          "output_type": "error",
          "ename": "FileNotFoundError",
          "evalue": "ignored",
          "traceback": [
            "\u001b[0;31m---------------------------------------------------------------------------\u001b[0m",
            "\u001b[0;31mFileNotFoundError\u001b[0m                         Traceback (most recent call last)",
            "\u001b[0;32m<ipython-input-14-4066b396fc9f>\u001b[0m in \u001b[0;36m<module>\u001b[0;34m()\u001b[0m\n\u001b[0;32m----> 1\u001b[0;31m \u001b[0mget_ipython\u001b[0m\u001b[0;34m(\u001b[0m\u001b[0;34m)\u001b[0m\u001b[0;34m.\u001b[0m\u001b[0mrun_cell_magic\u001b[0m\u001b[0;34m(\u001b[0m\u001b[0;34m'writefile'\u001b[0m\u001b[0;34m,\u001b[0m \u001b[0;34m'\"/content/drive/My Drive/Colab Notebooks/IsomapCUDA/CudaKernels/KNN/KNN.nvcc\"'\u001b[0m\u001b[0;34m,\u001b[0m \u001b[0;34m'/* K nearest Neighbours Kernel for large datasets ( backported from the improved version at http://github.com/TrentHouliston/Isomaped )\\n####################################################################################################################################################\\n#Copyright (c) 2013, Josiah Walker and Trent Houliston\\n#All rights reserved.\\n#\\n#Redistribution and use in source and binary forms, with or without modification, are permitted provided that the following conditions are met:\\n#\\n#    Redistributions of source code must retain the above copyright notice, this list of conditions and the following disclaimer.\\n#    Redistributions in binary form must reproduce the above copyright notice, this list of conditions and the following disclaimer in the documentation and/or #other materials provided with the distribution.\\n#\\n#THIS SOFTWARE IS PROVIDED BY THE COPYRIGHT HOLDERS AND CONTRIBUTORS \"AS IS\" AND ANY EXPRESS OR IMPLIED WARRANTIES, INCLUDING, BUT NOT LIMITED TO, THE IMPLIED #WARRANTIES OF MERCHANTABILITY AND FITNESS FOR A PARTICULAR PURPOSE ARE DISCLAIMED. IN NO EVENT SHALL THE COPYRIGHT HOLDER OR CONTRIBUTORS BE LIABLE FOR ANY #DIRECT, INDIRECT, INCIDENTAL, SPECIAL, EXEMPLARY, OR CONSEQUEN...\n\u001b[0m",
            "\u001b[0;32m/usr/local/lib/python3.6/dist-packages/IPython/core/interactiveshell.py\u001b[0m in \u001b[0;36mrun_cell_magic\u001b[0;34m(self, magic_name, line, cell)\u001b[0m\n\u001b[1;32m   2115\u001b[0m             \u001b[0mmagic_arg_s\u001b[0m \u001b[0;34m=\u001b[0m \u001b[0mself\u001b[0m\u001b[0;34m.\u001b[0m\u001b[0mvar_expand\u001b[0m\u001b[0;34m(\u001b[0m\u001b[0mline\u001b[0m\u001b[0;34m,\u001b[0m \u001b[0mstack_depth\u001b[0m\u001b[0;34m)\u001b[0m\u001b[0;34m\u001b[0m\u001b[0;34m\u001b[0m\u001b[0m\n\u001b[1;32m   2116\u001b[0m             \u001b[0;32mwith\u001b[0m \u001b[0mself\u001b[0m\u001b[0;34m.\u001b[0m\u001b[0mbuiltin_trap\u001b[0m\u001b[0;34m:\u001b[0m\u001b[0;34m\u001b[0m\u001b[0;34m\u001b[0m\u001b[0m\n\u001b[0;32m-> 2117\u001b[0;31m                 \u001b[0mresult\u001b[0m \u001b[0;34m=\u001b[0m \u001b[0mfn\u001b[0m\u001b[0;34m(\u001b[0m\u001b[0mmagic_arg_s\u001b[0m\u001b[0;34m,\u001b[0m \u001b[0mcell\u001b[0m\u001b[0;34m)\u001b[0m\u001b[0;34m\u001b[0m\u001b[0;34m\u001b[0m\u001b[0m\n\u001b[0m\u001b[1;32m   2118\u001b[0m             \u001b[0;32mreturn\u001b[0m \u001b[0mresult\u001b[0m\u001b[0;34m\u001b[0m\u001b[0;34m\u001b[0m\u001b[0m\n\u001b[1;32m   2119\u001b[0m \u001b[0;34m\u001b[0m\u001b[0m\n",
            "\u001b[0;32m</usr/local/lib/python3.6/dist-packages/decorator.py:decorator-gen-104>\u001b[0m in \u001b[0;36mwritefile\u001b[0;34m(self, line, cell)\u001b[0m\n",
            "\u001b[0;32m/usr/local/lib/python3.6/dist-packages/IPython/core/magic.py\u001b[0m in \u001b[0;36m<lambda>\u001b[0;34m(f, *a, **k)\u001b[0m\n\u001b[1;32m    186\u001b[0m     \u001b[0;31m# but it's overkill for just that one bit of state.\u001b[0m\u001b[0;34m\u001b[0m\u001b[0;34m\u001b[0m\u001b[0;34m\u001b[0m\u001b[0m\n\u001b[1;32m    187\u001b[0m     \u001b[0;32mdef\u001b[0m \u001b[0mmagic_deco\u001b[0m\u001b[0;34m(\u001b[0m\u001b[0marg\u001b[0m\u001b[0;34m)\u001b[0m\u001b[0;34m:\u001b[0m\u001b[0;34m\u001b[0m\u001b[0;34m\u001b[0m\u001b[0m\n\u001b[0;32m--> 188\u001b[0;31m         \u001b[0mcall\u001b[0m \u001b[0;34m=\u001b[0m \u001b[0;32mlambda\u001b[0m \u001b[0mf\u001b[0m\u001b[0;34m,\u001b[0m \u001b[0;34m*\u001b[0m\u001b[0ma\u001b[0m\u001b[0;34m,\u001b[0m \u001b[0;34m**\u001b[0m\u001b[0mk\u001b[0m\u001b[0;34m:\u001b[0m \u001b[0mf\u001b[0m\u001b[0;34m(\u001b[0m\u001b[0;34m*\u001b[0m\u001b[0ma\u001b[0m\u001b[0;34m,\u001b[0m \u001b[0;34m**\u001b[0m\u001b[0mk\u001b[0m\u001b[0;34m)\u001b[0m\u001b[0;34m\u001b[0m\u001b[0;34m\u001b[0m\u001b[0m\n\u001b[0m\u001b[1;32m    189\u001b[0m \u001b[0;34m\u001b[0m\u001b[0m\n\u001b[1;32m    190\u001b[0m         \u001b[0;32mif\u001b[0m \u001b[0mcallable\u001b[0m\u001b[0;34m(\u001b[0m\u001b[0marg\u001b[0m\u001b[0;34m)\u001b[0m\u001b[0;34m:\u001b[0m\u001b[0;34m\u001b[0m\u001b[0;34m\u001b[0m\u001b[0m\n",
            "\u001b[0;32m/usr/local/lib/python3.6/dist-packages/IPython/core/magics/osm.py\u001b[0m in \u001b[0;36mwritefile\u001b[0;34m(self, line, cell)\u001b[0m\n\u001b[1;32m    787\u001b[0m \u001b[0;34m\u001b[0m\u001b[0m\n\u001b[1;32m    788\u001b[0m         \u001b[0mmode\u001b[0m \u001b[0;34m=\u001b[0m \u001b[0;34m'a'\u001b[0m \u001b[0;32mif\u001b[0m \u001b[0margs\u001b[0m\u001b[0;34m.\u001b[0m\u001b[0mappend\u001b[0m \u001b[0;32melse\u001b[0m \u001b[0;34m'w'\u001b[0m\u001b[0;34m\u001b[0m\u001b[0;34m\u001b[0m\u001b[0m\n\u001b[0;32m--> 789\u001b[0;31m         \u001b[0;32mwith\u001b[0m \u001b[0mio\u001b[0m\u001b[0;34m.\u001b[0m\u001b[0mopen\u001b[0m\u001b[0;34m(\u001b[0m\u001b[0mfilename\u001b[0m\u001b[0;34m,\u001b[0m \u001b[0mmode\u001b[0m\u001b[0;34m,\u001b[0m \u001b[0mencoding\u001b[0m\u001b[0;34m=\u001b[0m\u001b[0;34m'utf-8'\u001b[0m\u001b[0;34m)\u001b[0m \u001b[0;32mas\u001b[0m \u001b[0mf\u001b[0m\u001b[0;34m:\u001b[0m\u001b[0;34m\u001b[0m\u001b[0;34m\u001b[0m\u001b[0m\n\u001b[0m\u001b[1;32m    790\u001b[0m             \u001b[0mf\u001b[0m\u001b[0;34m.\u001b[0m\u001b[0mwrite\u001b[0m\u001b[0;34m(\u001b[0m\u001b[0mcell\u001b[0m\u001b[0;34m)\u001b[0m\u001b[0;34m\u001b[0m\u001b[0;34m\u001b[0m\u001b[0m\n",
            "\u001b[0;31mFileNotFoundError\u001b[0m: [Errno 2] No such file or directory: '\"/content/drive/My Drive/Colab Notebooks/IsomapCUDA/CudaKernels/KNN/KNN.nvcc\"'"
          ]
        }
      ]
    }
  ]
}